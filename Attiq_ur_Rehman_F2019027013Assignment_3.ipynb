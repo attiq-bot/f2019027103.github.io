{
  "nbformat": 4,
  "nbformat_minor": 0,
  "metadata": {
    "colab": {
      "name": "Assignment_3 (1).ipynb",
      "provenance": [],
      "collapsed_sections": [],
      "toc_visible": true,
      "include_colab_link": true
    },
    "kernelspec": {
      "display_name": "Python 3",
      "name": "python3"
    },
    "language_info": {
      "name": "python"
    }
  },
  "cells": [
    {
      "cell_type": "markdown",
      "metadata": {
        "id": "view-in-github",
        "colab_type": "text"
      },
      "source": [
        "<a href=\"https://colab.research.google.com/github/attiq-bot/f2019027103.github.io/blob/master/Attiq_ur_Rehman_F2019027013Assignment_3.ipynb\" target=\"_parent\"><img src=\"https://colab.research.google.com/assets/colab-badge.svg\" alt=\"Open In Colab\"/></a>"
      ]
    },
    {
      "cell_type": "code",
      "metadata": {
        "colab": {
          "base_uri": "https://localhost:8080/",
          "height": 35
        },
        "id": "PYoxe9gqTCHz",
        "outputId": "987ee74c-2bec-43c9-d35e-a99b5556b273"
      },
      "source": [
        "pwd"
      ],
      "execution_count": null,
      "outputs": [
        {
          "output_type": "execute_result",
          "data": {
            "application/vnd.google.colaboratory.intrinsic+json": {
              "type": "string"
            },
            "text/plain": [
              "'/content'"
            ]
          },
          "metadata": {
            "tags": []
          },
          "execution_count": 656
        }
      ]
    },
    {
      "cell_type": "markdown",
      "metadata": {
        "id": "BiAiwEHXH_2D"
      },
      "source": [
        "##Importing Libraries\n"
      ]
    },
    {
      "cell_type": "code",
      "metadata": {
        "id": "2a4YY8iP3nsv"
      },
      "source": [
        "import re\n",
        "import string\n",
        "import scipy\n",
        "import pickle\n",
        "import pandas as pd\n",
        "import numpy as np\n",
        "from sklearn import datasets\n",
        "from sklearn.feature_extraction.text import*\n",
        "from sklearn.preprocessing import LabelEncoder\n",
        "from sklearn.linear_model import LogisticRegression\n",
        "from sklearn.naive_bayes import BernoulliNB\n",
        "from sklearn.ensemble import RandomForestClassifier\n",
        "from sklearn.svm import LinearSVC\n",
        "from sklearn.metrics import accuracy_score\n",
        "from prettytable import PrettyTable\n",
        "from astropy.table import Table, Column\n",
        "\n"
      ],
      "execution_count": null,
      "outputs": []
    },
    {
      "cell_type": "markdown",
      "metadata": {
        "id": "Bt-EcTmAIEsU"
      },
      "source": [
        "## Read Train data from .csv file by using pandas libarary\n",
        "\n",
        "\n"
      ]
    },
    {
      "cell_type": "code",
      "metadata": {
        "colab": {
          "base_uri": "https://localhost:8080/"
        },
        "id": "0nB95Sr54aAY",
        "outputId": "e89a8f1e-a974-441f-b5c0-2b4cdbb3b30a"
      },
      "source": [
        "print(\"Train Data from train.csv file:\\n\")\n",
        "\n",
        "Read_Train_Data=pd.read_csv(\"train.csv\")\n",
        "print(Read_Train_Data)"
      ],
      "execution_count": null,
      "outputs": [
        {
          "output_type": "stream",
          "text": [
            "Train Data from train.csv file:\n",
            "\n",
            "     height  weight    hair beard scarf  gender\n",
            "0  180.3000     196    Bald   Yes    No    Male\n",
            "1  170.0000     120    Long    No    No  Female\n",
            "2  178.5000     200   Short    No    No    Male\n",
            "3  163.4000     110  Medium    No   Yes  Female\n",
            "4  175.2222     220   Short   Yes    No    Male\n",
            "5  165.0000     150  Medium    No   Yes  Female\n"
          ],
          "name": "stdout"
        }
      ]
    },
    {
      "cell_type": "markdown",
      "metadata": {
        "id": "tiV9ImLoIQ0o"
      },
      "source": [
        "## To Find Data Type of Train Data"
      ]
    },
    {
      "cell_type": "code",
      "metadata": {
        "colab": {
          "base_uri": "https://localhost:8080/"
        },
        "id": "2NX2sRcpIR4A",
        "outputId": "54c837f0-5848-45a8-ca6d-9a9d866299ae"
      },
      "source": [
        "Read_Train_Data.dtypes"
      ],
      "execution_count": null,
      "outputs": [
        {
          "output_type": "execute_result",
          "data": {
            "text/plain": [
              "height    float64\n",
              "weight      int64\n",
              "hair       object\n",
              "beard      object\n",
              "scarf      object\n",
              "gender     object\n",
              "dtype: object"
            ]
          },
          "metadata": {
            "tags": []
          },
          "execution_count": 659
        }
      ]
    },
    {
      "cell_type": "markdown",
      "metadata": {
        "id": "H16mzHOPIZRv"
      },
      "source": [
        "##Print Columns of Train Data"
      ]
    },
    {
      "cell_type": "code",
      "metadata": {
        "colab": {
          "base_uri": "https://localhost:8080/"
        },
        "id": "CosOmTg4IYgp",
        "outputId": "222e0d4d-ea6c-4d19-82dc-1056dbf81f1d"
      },
      "source": [
        "print(\"To Find attributes in Train Data: \\n\")\n",
        "print(Read_Train_Data.columns)"
      ],
      "execution_count": null,
      "outputs": [
        {
          "output_type": "stream",
          "text": [
            "To Find attributes in Train Data: \n",
            "\n",
            "Index(['height', 'weight', 'hair', 'beard', 'scarf', 'gender'], dtype='object')\n"
          ],
          "name": "stdout"
        }
      ]
    },
    {
      "cell_type": "markdown",
      "metadata": {
        "id": "9DFw5WzFIdTI"
      },
      "source": [
        "##To Find Length of Train Data"
      ]
    },
    {
      "cell_type": "code",
      "metadata": {
        "id": "Nji3ZVwgCm2u",
        "colab": {
          "base_uri": "https://localhost:8080/"
        },
        "outputId": "3ace1919-0ac6-4ecc-905a-890c59cc0723"
      },
      "source": [
        "print(\"To Find Total Records or Instances in Train Data: \\n\")\n",
        "print(len(Read_Train_Data.index))"
      ],
      "execution_count": null,
      "outputs": [
        {
          "output_type": "stream",
          "text": [
            "To Find Total Records or Instances in Train Data: \n",
            "\n",
            "6\n"
          ],
          "name": "stdout"
        }
      ]
    },
    {
      "cell_type": "markdown",
      "metadata": {
        "id": "qORDydu5Ii8X"
      },
      "source": [
        "## Print Male instances from Train Data"
      ]
    },
    {
      "cell_type": "code",
      "metadata": {
        "colab": {
          "base_uri": "https://localhost:8080/"
        },
        "id": "jKyNOTiHIkqp",
        "outputId": "ff227287-5784-49be-c37b-ae006ecfe873"
      },
      "source": [
        "print(\"Train Data Contain\", len(Read_Train_Data[Read_Train_Data.gender.isin(['Male'])]), \"Instances of Male\")\n",
        "\n",
        "print(Read_Train_Data[Read_Train_Data.gender.isin(['Male'])])"
      ],
      "execution_count": null,
      "outputs": [
        {
          "output_type": "stream",
          "text": [
            "Train Data Contain 3 Instances of Male\n",
            "     height  weight   hair beard scarf gender\n",
            "0  180.3000     196   Bald   Yes    No   Male\n",
            "2  178.5000     200  Short    No    No   Male\n",
            "4  175.2222     220  Short   Yes    No   Male\n"
          ],
          "name": "stdout"
        }
      ]
    },
    {
      "cell_type": "markdown",
      "metadata": {
        "id": "EZGJz-m1Io6v"
      },
      "source": [
        "## Print Female instances from Train Data"
      ]
    },
    {
      "cell_type": "code",
      "metadata": {
        "colab": {
          "base_uri": "https://localhost:8080/"
        },
        "id": "uGzftR9FIq27",
        "outputId": "dceb74d1-2a2f-4bd4-955b-72250f217927"
      },
      "source": [
        "print(\"Train Data Contain\", len(Read_Train_Data[Read_Train_Data.gender.isin(['Female'])]), \"Instances of Female\")\n",
        "\n",
        "print(Read_Train_Data[Read_Train_Data.gender.isin(['Female'])])"
      ],
      "execution_count": null,
      "outputs": [
        {
          "output_type": "stream",
          "text": [
            "Train Data Contain 3 Instances of Female\n",
            "   height  weight    hair beard scarf  gender\n",
            "1   170.0     120    Long    No    No  Female\n",
            "3   163.4     110  Medium    No   Yes  Female\n",
            "5   165.0     150  Medium    No   Yes  Female\n"
          ],
          "name": "stdout"
        }
      ]
    },
    {
      "cell_type": "markdown",
      "metadata": {
        "id": "NsFs_Rt2Iv4J"
      },
      "source": [
        "## Representaion of Bar Chat on Gender of Train Data"
      ]
    },
    {
      "cell_type": "code",
      "metadata": {
        "colab": {
          "base_uri": "https://localhost:8080/",
          "height": 317
        },
        "id": "-35_WgHJIyQB",
        "outputId": "74468453-aad6-491a-ea65-bcb1e73e3627"
      },
      "source": [
        "gender= pd.DataFrame([\n",
        "                     len(Read_Train_Data[Read_Train_Data.gender.isin(['Male'])]),\n",
        "                     len(Read_Train_Data[Read_Train_Data.gender.isin(['Female'])])\n",
        "], index=[\"Male\", \"Female\"]) \n",
        "print(\"Chat Representation of Gender\\n\")\n",
        "print(gender.plot.bar(rot=0))"
      ],
      "execution_count": null,
      "outputs": [
        {
          "output_type": "stream",
          "text": [
            "Chat Representation of Gender\n",
            "\n",
            "AxesSubplot(0.125,0.125;0.775x0.755)\n"
          ],
          "name": "stdout"
        },
        {
          "output_type": "display_data",
          "data": {
            "image/png": "[encoded data removed]",
            "text/plain": [
              "<Figure size 432x288 with 1 Axes>"
            ]
          },
          "metadata": {
            "tags": [],
            "needs_background": "light"
          }
        }
      ]
    },
    {
      "cell_type": "markdown",
      "metadata": {
        "id": "6vXEZ3aEI2Ac"
      },
      "source": [
        "##Representation of Height and Weight through using Bar Chat on Train Data"
      ]
    },
    {
      "cell_type": "code",
      "metadata": {
        "colab": {
          "base_uri": "https://localhost:8080/",
          "height": 317
        },
        "id": "NBYWOQftI2Zq",
        "outputId": "adcca844-195b-4eb0-ae94-060f51cc25ac"
      },
      "source": [
        "Bar_Chat_Representation= pd.DataFrame(Read_Train_Data[[\"height\", \"weight\"]])\n",
        "print(\"Representation of Height and Weight through Bar Chat:\\n\")\n",
        "print(Bar_Chat_Representation.plot.bar(rot=0))"
      ],
      "execution_count": null,
      "outputs": [
        {
          "output_type": "stream",
          "text": [
            "Representation of Height and Weight through Bar Chat:\n",
            "\n",
            "AxesSubplot(0.125,0.125;0.775x0.755)\n"
          ],
          "name": "stdout"
        },
        {
          "output_type": "display_data",
          "data": {
            "image/png": "[encoded data removed]",
            "text/plain": [
              "<Figure size 432x288 with 1 Axes>"
            ]
          },
          "metadata": {
            "tags": [],
            "needs_background": "light"
          }
        }
      ]
    },
    {
      "cell_type": "markdown",
      "metadata": {
        "id": "06RwdbcrrRZ-"
      },
      "source": [
        "  ."
      ]
    },
    {
      "cell_type": "markdown",
      "metadata": {
        "id": "fODobUtwrsr2"
      },
      "source": [
        "."
      ]
    },
    {
      "cell_type": "markdown",
      "metadata": {
        "id": "Kv03Yu6nrhr3"
      },
      "source": [
        "."
      ]
    },
    {
      "cell_type": "markdown",
      "metadata": {
        "id": "NK8bkd70rRrz"
      },
      "source": [
        "."
      ]
    },
    {
      "cell_type": "markdown",
      "metadata": {
        "id": "VkWP1YRfJBVR"
      },
      "source": [
        "##Representation of Hair through Bar Chat on Train Data"
      ]
    },
    {
      "cell_type": "code",
      "metadata": {
        "colab": {
          "base_uri": "https://localhost:8080/",
          "height": 332
        },
        "id": "cGHdQIuHI21D",
        "outputId": "7aeed624-e066-4e41-9f5e-2f3fce047ce9"
      },
      "source": [
        "Bar_Chat_Representation = pd.DataFrame(Read_Train_Data.hair)\n",
        "Bar_Chat_Representation[\"counter\"]=0\n",
        "print(\"Representation of Hair through Bar Chat on Train Data:\\n\")\n",
        "print(Bar_Chat_Representation.groupby(\"hair\").count().plot.bar(rot=0))"
      ],
      "execution_count": null,
      "outputs": [
        {
          "output_type": "stream",
          "text": [
            "Representation of Hair through Bar Chat on Train Data:\n",
            "\n",
            "AxesSubplot(0.125,0.125;0.775x0.755)\n"
          ],
          "name": "stdout"
        },
        {
          "output_type": "display_data",
          "data": {
            "image/png": "[encoded data removed]",
            "text/plain": [
              "<Figure size 432x288 with 1 Axes>"
            ]
          },
          "metadata": {
            "tags": [],
            "needs_background": "light"
          }
        }
      ]
    },
    {
      "cell_type": "markdown",
      "metadata": {
        "id": "U3XqqEFws4uG"
      },
      "source": [
        "."
      ]
    },
    {
      "cell_type": "markdown",
      "metadata": {
        "id": "sw9EHb_jtDY0"
      },
      "source": [
        "."
      ]
    },
    {
      "cell_type": "markdown",
      "metadata": {
        "id": "kTZZPk_QtDfP"
      },
      "source": [
        "."
      ]
    },
    {
      "cell_type": "markdown",
      "metadata": {
        "id": "iNv2ZOr9s5rh"
      },
      "source": [
        "."
      ]
    },
    {
      "cell_type": "markdown",
      "metadata": {
        "id": "LDkuh8K-J8y3"
      },
      "source": [
        "##Representation of Beard through using Bar Chat on Train Data"
      ]
    },
    {
      "cell_type": "code",
      "metadata": {
        "colab": {
          "base_uri": "https://localhost:8080/",
          "height": 332
        },
        "id": "T203Klw4JzEW",
        "outputId": "8008b64b-4e5a-4e8a-998e-d9fbfa6f5630"
      },
      "source": [
        "Bar_Chat_Representation = pd.DataFrame(Read_Train_Data.beard)\n",
        "Bar_Chat_Representation[\"counter\"]=0\n",
        "print(\"Representation of Beard through Bar Chat:\\n\")\n",
        "print(Bar_Chat_Representation.groupby(\"beard\").count().plot.bar(rot=0))"
      ],
      "execution_count": null,
      "outputs": [
        {
          "output_type": "stream",
          "text": [
            "Representation of Beard through Bar Chat:\n",
            "\n",
            "AxesSubplot(0.125,0.125;0.775x0.755)\n"
          ],
          "name": "stdout"
        },
        {
          "output_type": "display_data",
          "data": {
            "image/png": "[encoded data removed]",
            "text/plain": [
              "<Figure size 432x288 with 1 Axes>"
            ]
          },
          "metadata": {
            "tags": [],
            "needs_background": "light"
          }
        }
      ]
    },
    {
      "cell_type": "markdown",
      "metadata": {
        "id": "tuA9eqBQKNXb"
      },
      "source": [
        "##Representation of Scarf through using Bar Chat on Train Data"
      ]
    },
    {
      "cell_type": "code",
      "metadata": {
        "colab": {
          "base_uri": "https://localhost:8080/",
          "height": 332
        },
        "id": "8bstTAyhKTA8",
        "outputId": "1a8ce054-80b4-40ef-cc14-52b696666c88"
      },
      "source": [
        "Bar_Chat_Representation = pd.DataFrame(Read_Train_Data.scarf)\n",
        "Bar_Chat_Representation[\"counter\"]=0\n",
        "print(\"Representation of Scarf through Bar Chat:\\n\")\n",
        "print(Bar_Chat_Representation.groupby(\"scarf\").count().plot.bar(rot=0))"
      ],
      "execution_count": null,
      "outputs": [
        {
          "output_type": "stream",
          "text": [
            "Representation of Scarf through Bar Chat:\n",
            "\n",
            "AxesSubplot(0.125,0.125;0.775x0.755)\n"
          ],
          "name": "stdout"
        },
        {
          "output_type": "display_data",
          "data": {
            "image/png": "[encoded data removed]",
            "text/plain": [
              "<Figure size 432x288 with 1 Axes>"
            ]
          },
          "metadata": {
            "tags": [],
            "needs_background": "light"
          }
        }
      ]
    },
    {
      "cell_type": "markdown",
      "metadata": {
        "id": "9dgBrpx0LawQ"
      },
      "source": [
        "## Read Test data from .csv file by using pandas libarary"
      ]
    },
    {
      "cell_type": "code",
      "metadata": {
        "colab": {
          "base_uri": "https://localhost:8080/"
        },
        "id": "tM5Y9b8eLl_a",
        "outputId": "099c4c2c-83a8-4391-c397-627d5dea8cfa"
      },
      "source": [
        "print(\"Test Data from test.csv file:\\n\")\n",
        "\n",
        "Read_Test_Data=pd.read_csv(\"test.csv\")\n",
        "print(Read_Test_Data)"
      ],
      "execution_count": null,
      "outputs": [
        {
          "output_type": "stream",
          "text": [
            "Test Data from test.csv file:\n",
            "\n",
            "   height  weight    hair beard scarf  gender\n",
            "0   179.1     185    Long   Yes    No    Male\n",
            "1   160.5     130   Short    No    No  Female\n",
            "2   177.8     160    Bald    No    No    Male\n",
            "3   161.1     100  Medium    No    No  Female\n"
          ],
          "name": "stdout"
        }
      ]
    },
    {
      "cell_type": "markdown",
      "metadata": {
        "id": "DbU74rjkLyv5"
      },
      "source": [
        "## To Find Data Type of Test Data"
      ]
    },
    {
      "cell_type": "code",
      "metadata": {
        "colab": {
          "base_uri": "https://localhost:8080/"
        },
        "id": "My8Jj64TMkSc",
        "outputId": "471ee903-84c2-4d0a-91bb-2ac65adbe8ec"
      },
      "source": [
        "Read_Test_Data.dtypes"
      ],
      "execution_count": null,
      "outputs": [
        {
          "output_type": "execute_result",
          "data": {
            "text/plain": [
              "height    float64\n",
              "weight      int64\n",
              "hair       object\n",
              "beard      object\n",
              "scarf      object\n",
              "gender     object\n",
              "dtype: object"
            ]
          },
          "metadata": {
            "tags": []
          },
          "execution_count": 670
        }
      ]
    },
    {
      "cell_type": "markdown",
      "metadata": {
        "id": "DmQyK085MuMN"
      },
      "source": [
        "##Print Columns of Test Data"
      ]
    },
    {
      "cell_type": "code",
      "metadata": {
        "colab": {
          "base_uri": "https://localhost:8080/"
        },
        "id": "cdWDAsD4MvD5",
        "outputId": "1e6f131b-8478-4e09-e69b-d21cdbb2c81f"
      },
      "source": [
        "print(\"To Find attributes in Test Data: \\n\")\n",
        "print(Read_Test_Data.columns)"
      ],
      "execution_count": null,
      "outputs": [
        {
          "output_type": "stream",
          "text": [
            "To Find attributes in Test Data: \n",
            "\n",
            "Index(['height', 'weight', 'hair', 'beard', 'scarf', 'gender'], dtype='object')\n"
          ],
          "name": "stdout"
        }
      ]
    },
    {
      "cell_type": "markdown",
      "metadata": {
        "id": "C9pUaUrOgYhc"
      },
      "source": [
        "##Print Length of Test Data"
      ]
    },
    {
      "cell_type": "code",
      "metadata": {
        "colab": {
          "base_uri": "https://localhost:8080/"
        },
        "id": "F9i7y7sDe5jn",
        "outputId": "f2c27754-59be-4f14-ce01-1fc587b4128f"
      },
      "source": [
        "print(\"To Find Total Records or Instances in Train Data: \\n\")\n",
        "print(len(Read_Test_Data.index))"
      ],
      "execution_count": null,
      "outputs": [
        {
          "output_type": "stream",
          "text": [
            "To Find Total Records or Instances in Train Data: \n",
            "\n",
            "4\n"
          ],
          "name": "stdout"
        }
      ]
    },
    {
      "cell_type": "markdown",
      "metadata": {
        "id": "Ryv9IZ5egi2k"
      },
      "source": [
        "## Print All Male instances from Test Data"
      ]
    },
    {
      "cell_type": "code",
      "metadata": {
        "colab": {
          "base_uri": "https://localhost:8080/"
        },
        "id": "vZV9JS9LfFes",
        "outputId": "7f999a5b-4556-4662-e0a2-b0a1449a5794"
      },
      "source": [
        "print(\"Test Data Contain\", len(Read_Test_Data[Read_Test_Data.gender.isin(['Male'])]), \"Instances of Male\")\n",
        "\n",
        "print(Read_Test_Data[Read_Test_Data.gender.isin(['Male'])])"
      ],
      "execution_count": null,
      "outputs": [
        {
          "output_type": "stream",
          "text": [
            "Test Data Contain 2 Instances of Male\n",
            "   height  weight  hair beard scarf gender\n",
            "0   179.1     185  Long   Yes    No   Male\n",
            "2   177.8     160  Bald    No    No   Male\n"
          ],
          "name": "stdout"
        }
      ]
    },
    {
      "cell_type": "markdown",
      "metadata": {
        "id": "VIEezda6gryt"
      },
      "source": [
        "## Print All Female instances from Test Data"
      ]
    },
    {
      "cell_type": "code",
      "metadata": {
        "colab": {
          "base_uri": "https://localhost:8080/"
        },
        "id": "0OuqH3I0fFhQ",
        "outputId": "3bbbd100-075a-4674-8c59-bedbb52ce302"
      },
      "source": [
        "print(\"Train Data Contain\", len(Read_Test_Data[Read_Test_Data.gender.isin(['Female'])]), \"Instances of Female\")\n",
        "\n",
        "print(Read_Test_Data[Read_Test_Data.gender.isin(['Female'])])"
      ],
      "execution_count": null,
      "outputs": [
        {
          "output_type": "stream",
          "text": [
            "Train Data Contain 2 Instances of Female\n",
            "   height  weight    hair beard scarf  gender\n",
            "1   160.5     130   Short    No    No  Female\n",
            "3   161.1     100  Medium    No    No  Female\n"
          ],
          "name": "stdout"
        }
      ]
    },
    {
      "cell_type": "markdown",
      "metadata": {
        "id": "FvyT-xtVgvwE"
      },
      "source": [
        "## Representaion of Bar Chat on Gender of Test Data"
      ]
    },
    {
      "cell_type": "code",
      "metadata": {
        "colab": {
          "base_uri": "https://localhost:8080/",
          "height": 317
        },
        "id": "85M58JkJfFj8",
        "outputId": "c6c49694-7653-4505-b4f7-6be2f2399cdc"
      },
      "source": [
        "gender= pd.DataFrame([\n",
        "                     len(Read_Test_Data[Read_Test_Data.gender.isin(['Male'])]),\n",
        "                     len(Read_Test_Data[Read_Test_Data.gender.isin(['Female'])])\n",
        "], index=[\"Male\", \"Female\"]) \n",
        "print(\"Chat Representation of Test Data for Gender\\n\")\n",
        "print(gender.plot.bar(rot=0))"
      ],
      "execution_count": null,
      "outputs": [
        {
          "output_type": "stream",
          "text": [
            "Chat Representation of Test Data for Gender\n",
            "\n",
            "AxesSubplot(0.125,0.125;0.775x0.755)\n"
          ],
          "name": "stdout"
        },
        {
          "output_type": "display_data",
          "data": {
            "image/png": "[encoded data removed]",
            "text/plain": [
              "<Figure size 432x288 with 1 Axes>"
            ]
          },
          "metadata": {
            "tags": [],
            "needs_background": "light"
          }
        }
      ]
    },
    {
      "cell_type": "markdown",
      "metadata": {
        "id": "NvlL96C4g4Uv"
      },
      "source": [
        "## Representaion of Bar Chat on Height and Weight of Test Data"
      ]
    },
    {
      "cell_type": "code",
      "metadata": {
        "colab": {
          "base_uri": "https://localhost:8080/",
          "height": 317
        },
        "id": "9RSZWxYzfFmr",
        "outputId": "b649e529-c100-4e94-c072-6400f4336f48"
      },
      "source": [
        "Bar_Chat_Representation = pd.DataFrame(Read_Test_Data[[\"height\", \"weight\"]])\n",
        "print(\"Representation of Height and Weight through Bar Chat of Test Data:\\n\")\n",
        "print(Bar_Chat_Representation.plot.bar(rot=0))"
      ],
      "execution_count": null,
      "outputs": [
        {
          "output_type": "stream",
          "text": [
            "Representation of Height and Weight through Bar Chat of Test Data:\n",
            "\n",
            "AxesSubplot(0.125,0.125;0.775x0.755)\n"
          ],
          "name": "stdout"
        },
        {
          "output_type": "display_data",
          "data": {
            "image/png": "[encoded data removed]",
            "text/plain": [
              "<Figure size 432x288 with 1 Axes>"
            ]
          },
          "metadata": {
            "tags": [],
            "needs_background": "light"
          }
        }
      ]
    },
    {
      "cell_type": "markdown",
      "metadata": {
        "id": "kACBiSLLrvPV"
      },
      "source": [
        "."
      ]
    },
    {
      "cell_type": "markdown",
      "metadata": {
        "id": "BBfy5Vphrvut"
      },
      "source": [
        "."
      ]
    },
    {
      "cell_type": "markdown",
      "metadata": {
        "id": "ROGnjn-XrvzP"
      },
      "source": [
        "."
      ]
    },
    {
      "cell_type": "markdown",
      "metadata": {
        "id": "WCBz57snrv3X"
      },
      "source": [
        "."
      ]
    },
    {
      "cell_type": "markdown",
      "metadata": {
        "id": "qZo-KGw6hAAG"
      },
      "source": [
        "## Representaion of Bar Chat on Hair of Test Data"
      ]
    },
    {
      "cell_type": "code",
      "metadata": {
        "colab": {
          "base_uri": "https://localhost:8080/",
          "height": 332
        },
        "id": "XsIBoq_kfFpR",
        "outputId": "52b475e4-cdc6-4579-edae-d9e8adb209d0"
      },
      "source": [
        "Bar_Chat_Representation = pd.DataFrame(Read_Test_Data.hair)\n",
        "Bar_Chat_Representation[\"counter\"]=0\n",
        "print(\"Representation of Hair through Bar Chat on Test Data:\\n\")\n",
        "print(Bar_Chat_Representation.groupby(\"hair\").count().plot.bar(rot=0))"
      ],
      "execution_count": null,
      "outputs": [
        {
          "output_type": "stream",
          "text": [
            "Representation of Hair through Bar Chat on Test Data:\n",
            "\n",
            "AxesSubplot(0.125,0.125;0.775x0.755)\n"
          ],
          "name": "stdout"
        },
        {
          "output_type": "display_data",
          "data": {
            "image/png": "[encoded data removed]",
            "text/plain": [
              "<Figure size 432x288 with 1 Axes>"
            ]
          },
          "metadata": {
            "tags": [],
            "needs_background": "light"
          }
        }
      ]
    },
    {
      "cell_type": "markdown",
      "metadata": {
        "id": "IJRQXMpkhEfu"
      },
      "source": [
        "## Representaion of Bar Chat on Beard of Test Data"
      ]
    },
    {
      "cell_type": "code",
      "metadata": {
        "colab": {
          "base_uri": "https://localhost:8080/",
          "height": 332
        },
        "id": "Yq1wKsd-fFtr",
        "outputId": "e8d225c7-65b2-44af-e11b-96b510335ce1"
      },
      "source": [
        "Bar_Chat_Representation = pd.DataFrame(Read_Test_Data.beard)\n",
        "Bar_Chat_Representation[\"counter\"]=0\n",
        "print(\"Representation of Beard through Bar Chat on Test Data:\\n\")\n",
        "print(Bar_Chat_Representation.groupby(\"beard\").count().plot.bar(rot=0))"
      ],
      "execution_count": null,
      "outputs": [
        {
          "output_type": "stream",
          "text": [
            "Representation of Beard through Bar Chat on Test Data:\n",
            "\n",
            "AxesSubplot(0.125,0.125;0.775x0.755)\n"
          ],
          "name": "stdout"
        },
        {
          "output_type": "display_data",
          "data": {
            "image/png": "[encoded data removed]",
            "text/plain": [
              "<Figure size 432x288 with 1 Axes>"
            ]
          },
          "metadata": {
            "tags": [],
            "needs_background": "light"
          }
        }
      ]
    },
    {
      "cell_type": "markdown",
      "metadata": {
        "id": "TEqBjsIehHQf"
      },
      "source": [
        "## Representaion of Bar Chat on Scarf of Test Data"
      ]
    },
    {
      "cell_type": "code",
      "metadata": {
        "colab": {
          "base_uri": "https://localhost:8080/",
          "height": 332
        },
        "id": "KY4tdgZufFwJ",
        "outputId": "5474ea5e-3a62-41b6-8164-5237396fcfb9"
      },
      "source": [
        "Bar_Chat_Representation = pd.DataFrame(Read_Test_Data.scarf)\n",
        "Bar_Chat_Representation[\"counter\"]=0\n",
        "print(\"Representation of Scarf through Bar Chat on Test Data:\\n\")\n",
        "print(Bar_Chat_Representation.groupby(\"scarf\").count().plot.bar(rot=0))"
      ],
      "execution_count": null,
      "outputs": [
        {
          "output_type": "stream",
          "text": [
            "Representation of Scarf through Bar Chat on Test Data:\n",
            "\n",
            "AxesSubplot(0.125,0.125;0.775x0.755)\n"
          ],
          "name": "stdout"
        },
        {
          "output_type": "display_data",
          "data": {
            "image/png": "[encoded data removed]",
            "text/plain": [
              "<Figure size 432x288 with 1 Axes>"
            ]
          },
          "metadata": {
            "tags": [],
            "needs_background": "light"
          }
        }
      ]
    },
    {
      "cell_type": "markdown",
      "metadata": {
        "id": "w_dcmFvyKfG6"
      },
      "source": [
        "#Label Encoding on Train Data\n"
      ]
    },
    {
      "cell_type": "code",
      "metadata": {
        "colab": {
          "base_uri": "https://localhost:8080/",
          "height": 227
        },
        "id": "8WmOaK-vhc_g",
        "outputId": "50f53b20-8780-4cf5-c82a-115f3509103b"
      },
      "source": [
        "PreProcess_Train_Data=Read_Train_Data.copy()\n",
        "PreProcess_Train_Data"
      ],
      "execution_count": null,
      "outputs": [
        {
          "output_type": "execute_result",
          "data": {
            "text/html": [
              "<div>\n",
              "<style scoped>\n",
              "    .dataframe tbody tr th:only-of-type {\n",
              "        vertical-align: middle;\n",
              "    }\n",
              "\n",
              "    .dataframe tbody tr th {\n",
              "        vertical-align: top;\n",
              "    }\n",
              "\n",
              "    .dataframe thead th {\n",
              "        text-align: right;\n",
              "    }\n",
              "</style>\n",
              "<table border=\"1\" class=\"dataframe\">\n",
              "  <thead>\n",
              "    <tr style=\"text-align: right;\">\n",
              "      <th></th>\n",
              "      <th>height</th>\n",
              "      <th>weight</th>\n",
              "      <th>hair</th>\n",
              "      <th>beard</th>\n",
              "      <th>scarf</th>\n",
              "      <th>gender</th>\n",
              "    </tr>\n",
              "  </thead>\n",
              "  <tbody>\n",
              "    <tr>\n",
              "      <th>0</th>\n",
              "      <td>180.3000</td>\n",
              "      <td>196</td>\n",
              "      <td>Bald</td>\n",
              "      <td>Yes</td>\n",
              "      <td>No</td>\n",
              "      <td>Male</td>\n",
              "    </tr>\n",
              "    <tr>\n",
              "      <th>1</th>\n",
              "      <td>170.0000</td>\n",
              "      <td>120</td>\n",
              "      <td>Long</td>\n",
              "      <td>No</td>\n",
              "      <td>No</td>\n",
              "      <td>Female</td>\n",
              "    </tr>\n",
              "    <tr>\n",
              "      <th>2</th>\n",
              "      <td>178.5000</td>\n",
              "      <td>200</td>\n",
              "      <td>Short</td>\n",
              "      <td>No</td>\n",
              "      <td>No</td>\n",
              "      <td>Male</td>\n",
              "    </tr>\n",
              "    <tr>\n",
              "      <th>3</th>\n",
              "      <td>163.4000</td>\n",
              "      <td>110</td>\n",
              "      <td>Medium</td>\n",
              "      <td>No</td>\n",
              "      <td>Yes</td>\n",
              "      <td>Female</td>\n",
              "    </tr>\n",
              "    <tr>\n",
              "      <th>4</th>\n",
              "      <td>175.2222</td>\n",
              "      <td>220</td>\n",
              "      <td>Short</td>\n",
              "      <td>Yes</td>\n",
              "      <td>No</td>\n",
              "      <td>Male</td>\n",
              "    </tr>\n",
              "    <tr>\n",
              "      <th>5</th>\n",
              "      <td>165.0000</td>\n",
              "      <td>150</td>\n",
              "      <td>Medium</td>\n",
              "      <td>No</td>\n",
              "      <td>Yes</td>\n",
              "      <td>Female</td>\n",
              "    </tr>\n",
              "  </tbody>\n",
              "</table>\n",
              "</div>"
            ],
            "text/plain": [
              "     height  weight    hair beard scarf  gender\n",
              "0  180.3000     196    Bald   Yes    No    Male\n",
              "1  170.0000     120    Long    No    No  Female\n",
              "2  178.5000     200   Short    No    No    Male\n",
              "3  163.4000     110  Medium    No   Yes  Female\n",
              "4  175.2222     220   Short   Yes    No    Male\n",
              "5  165.0000     150  Medium    No   Yes  Female"
            ]
          },
          "metadata": {
            "tags": []
          },
          "execution_count": 680
        }
      ]
    },
    {
      "cell_type": "markdown",
      "metadata": {
        "id": "1EIOqpZthy-d"
      },
      "source": [
        "## By Creating Object for Label Ecoding for Gender Attribute and Encode using Fit_Transform Method."
      ]
    },
    {
      "cell_type": "code",
      "metadata": {
        "colab": {
          "base_uri": "https://localhost:8080/"
        },
        "id": "V1J-9vtlj8N7",
        "outputId": "a1a5b420-ddb6-493d-f458-117896f6f7c5"
      },
      "source": [
        "from sklearn import preprocessing\n",
        "Label_Encoder_Gender =preprocessing.LabelEncoder()\n",
        "PreProcess_Train_Data['gender']=Label_Encoder_Gender.fit_transform(PreProcess_Train_Data['gender'])\n",
        "PreProcess_Train_Data['gender']"
      ],
      "execution_count": null,
      "outputs": [
        {
          "output_type": "execute_result",
          "data": {
            "text/plain": [
              "0    1\n",
              "1    0\n",
              "2    1\n",
              "3    0\n",
              "4    1\n",
              "5    0\n",
              "Name: gender, dtype: int64"
            ]
          },
          "metadata": {
            "tags": []
          },
          "execution_count": 681
        }
      ]
    },
    {
      "cell_type": "markdown",
      "metadata": {
        "id": "S2bAmWvslMUl"
      },
      "source": [
        "## By Creating Object for Label Ecoding for Hair Attribute and Encode using Fit_Transform Method."
      ]
    },
    {
      "cell_type": "code",
      "metadata": {
        "colab": {
          "base_uri": "https://localhost:8080/"
        },
        "id": "BJcr2rijk1bh",
        "outputId": "bb10acdc-8c91-477f-e4eb-43d04aa178bc"
      },
      "source": [
        "Label_Encoder_Hair =preprocessing.LabelEncoder()\n",
        "PreProcess_Train_Data['hair']=Label_Encoder_Hair.fit_transform(PreProcess_Train_Data['hair'])\n",
        "PreProcess_Train_Data['hair']"
      ],
      "execution_count": null,
      "outputs": [
        {
          "output_type": "execute_result",
          "data": {
            "text/plain": [
              "0    0\n",
              "1    1\n",
              "2    3\n",
              "3    2\n",
              "4    3\n",
              "5    2\n",
              "Name: hair, dtype: int64"
            ]
          },
          "metadata": {
            "tags": []
          },
          "execution_count": 682
        }
      ]
    },
    {
      "cell_type": "markdown",
      "metadata": {
        "id": "LzcyIfUzlVZG"
      },
      "source": [
        "## By Creating Object for Label Ecoding for Beard Attribute and Encode using Fit_Transform Method."
      ]
    },
    {
      "cell_type": "code",
      "metadata": {
        "colab": {
          "base_uri": "https://localhost:8080/"
        },
        "id": "BEzwBVeikecC",
        "outputId": "71c1978c-7142-4cfa-fdfa-631890697628"
      },
      "source": [
        "Label_Encoder_Beard =preprocessing.LabelEncoder()\n",
        "PreProcess_Train_Data['beard']=Label_Encoder_Beard.fit_transform(PreProcess_Train_Data['beard'])\n",
        "PreProcess_Train_Data['beard']"
      ],
      "execution_count": null,
      "outputs": [
        {
          "output_type": "execute_result",
          "data": {
            "text/plain": [
              "0    1\n",
              "1    0\n",
              "2    0\n",
              "3    0\n",
              "4    1\n",
              "5    0\n",
              "Name: beard, dtype: int64"
            ]
          },
          "metadata": {
            "tags": []
          },
          "execution_count": 683
        }
      ]
    },
    {
      "cell_type": "markdown",
      "metadata": {
        "id": "rp4uOHVolYxu"
      },
      "source": [
        "## By Creating Object for Label Ecoding for Scarf Attribute and Encode using Fit_Transform Method."
      ]
    },
    {
      "cell_type": "code",
      "metadata": {
        "colab": {
          "base_uri": "https://localhost:8080/"
        },
        "id": "TZ8HXVuMkV2l",
        "outputId": "8f51a030-9359-4125-c168-cb4e15c137b7"
      },
      "source": [
        "Label_Encoder_Scarf =preprocessing.LabelEncoder()\n",
        "PreProcess_Train_Data['scarf']=Label_Encoder_Gender.fit_transform(PreProcess_Train_Data['scarf'])\n",
        "PreProcess_Train_Data['scarf']"
      ],
      "execution_count": null,
      "outputs": [
        {
          "output_type": "execute_result",
          "data": {
            "text/plain": [
              "0    0\n",
              "1    0\n",
              "2    0\n",
              "3    1\n",
              "4    0\n",
              "5    1\n",
              "Name: scarf, dtype: int64"
            ]
          },
          "metadata": {
            "tags": []
          },
          "execution_count": 684
        }
      ]
    },
    {
      "cell_type": "markdown",
      "metadata": {
        "id": "0wDsqtBJlg0W"
      },
      "source": [
        "##Train Data Table After Label Encoding"
      ]
    },
    {
      "cell_type": "code",
      "metadata": {
        "colab": {
          "base_uri": "https://localhost:8080/",
          "height": 263
        },
        "id": "JwWfWUPqlhG0",
        "outputId": "90bcd673-ce8f-4095-d021-2ada5fcbad43"
      },
      "source": [
        "print('Encoded Train Data Table: \\n')\n",
        "PreProcess_Train_Data"
      ],
      "execution_count": null,
      "outputs": [
        {
          "output_type": "stream",
          "text": [
            "Encoded Train Data Table: \n",
            "\n"
          ],
          "name": "stdout"
        },
        {
          "output_type": "execute_result",
          "data": {
            "text/html": [
              "<div>\n",
              "<style scoped>\n",
              "    .dataframe tbody tr th:only-of-type {\n",
              "        vertical-align: middle;\n",
              "    }\n",
              "\n",
              "    .dataframe tbody tr th {\n",
              "        vertical-align: top;\n",
              "    }\n",
              "\n",
              "    .dataframe thead th {\n",
              "        text-align: right;\n",
              "    }\n",
              "</style>\n",
              "<table border=\"1\" class=\"dataframe\">\n",
              "  <thead>\n",
              "    <tr style=\"text-align: right;\">\n",
              "      <th></th>\n",
              "      <th>height</th>\n",
              "      <th>weight</th>\n",
              "      <th>hair</th>\n",
              "      <th>beard</th>\n",
              "      <th>scarf</th>\n",
              "      <th>gender</th>\n",
              "    </tr>\n",
              "  </thead>\n",
              "  <tbody>\n",
              "    <tr>\n",
              "      <th>0</th>\n",
              "      <td>180.3000</td>\n",
              "      <td>196</td>\n",
              "      <td>0</td>\n",
              "      <td>1</td>\n",
              "      <td>0</td>\n",
              "      <td>1</td>\n",
              "    </tr>\n",
              "    <tr>\n",
              "      <th>1</th>\n",
              "      <td>170.0000</td>\n",
              "      <td>120</td>\n",
              "      <td>1</td>\n",
              "      <td>0</td>\n",
              "      <td>0</td>\n",
              "      <td>0</td>\n",
              "    </tr>\n",
              "    <tr>\n",
              "      <th>2</th>\n",
              "      <td>178.5000</td>\n",
              "      <td>200</td>\n",
              "      <td>3</td>\n",
              "      <td>0</td>\n",
              "      <td>0</td>\n",
              "      <td>1</td>\n",
              "    </tr>\n",
              "    <tr>\n",
              "      <th>3</th>\n",
              "      <td>163.4000</td>\n",
              "      <td>110</td>\n",
              "      <td>2</td>\n",
              "      <td>0</td>\n",
              "      <td>1</td>\n",
              "      <td>0</td>\n",
              "    </tr>\n",
              "    <tr>\n",
              "      <th>4</th>\n",
              "      <td>175.2222</td>\n",
              "      <td>220</td>\n",
              "      <td>3</td>\n",
              "      <td>1</td>\n",
              "      <td>0</td>\n",
              "      <td>1</td>\n",
              "    </tr>\n",
              "    <tr>\n",
              "      <th>5</th>\n",
              "      <td>165.0000</td>\n",
              "      <td>150</td>\n",
              "      <td>2</td>\n",
              "      <td>0</td>\n",
              "      <td>1</td>\n",
              "      <td>0</td>\n",
              "    </tr>\n",
              "  </tbody>\n",
              "</table>\n",
              "</div>"
            ],
            "text/plain": [
              "     height  weight  hair  beard  scarf  gender\n",
              "0  180.3000     196     0      1      0       1\n",
              "1  170.0000     120     1      0      0       0\n",
              "2  178.5000     200     3      0      0       1\n",
              "3  163.4000     110     2      0      1       0\n",
              "4  175.2222     220     3      1      0       1\n",
              "5  165.0000     150     2      0      1       0"
            ]
          },
          "metadata": {
            "tags": []
          },
          "execution_count": 685
        }
      ]
    },
    {
      "cell_type": "markdown",
      "metadata": {
        "id": "y4WYjJPCl7Vt"
      },
      "source": [
        "#Label Encoding on Test Data"
      ]
    },
    {
      "cell_type": "code",
      "metadata": {
        "colab": {
          "base_uri": "https://localhost:8080/",
          "height": 167
        },
        "id": "9lUZZfnFl7iJ",
        "outputId": "1e795179-70a2-4ec9-ea84-ce27f93aa7cd"
      },
      "source": [
        "PreProcess_Test_Data=Read_Test_Data.copy()\n",
        "PreProcess_Test_Data"
      ],
      "execution_count": null,
      "outputs": [
        {
          "output_type": "execute_result",
          "data": {
            "text/html": [
              "<div>\n",
              "<style scoped>\n",
              "    .dataframe tbody tr th:only-of-type {\n",
              "        vertical-align: middle;\n",
              "    }\n",
              "\n",
              "    .dataframe tbody tr th {\n",
              "        vertical-align: top;\n",
              "    }\n",
              "\n",
              "    .dataframe thead th {\n",
              "        text-align: right;\n",
              "    }\n",
              "</style>\n",
              "<table border=\"1\" class=\"dataframe\">\n",
              "  <thead>\n",
              "    <tr style=\"text-align: right;\">\n",
              "      <th></th>\n",
              "      <th>height</th>\n",
              "      <th>weight</th>\n",
              "      <th>hair</th>\n",
              "      <th>beard</th>\n",
              "      <th>scarf</th>\n",
              "      <th>gender</th>\n",
              "    </tr>\n",
              "  </thead>\n",
              "  <tbody>\n",
              "    <tr>\n",
              "      <th>0</th>\n",
              "      <td>179.1</td>\n",
              "      <td>185</td>\n",
              "      <td>Long</td>\n",
              "      <td>Yes</td>\n",
              "      <td>No</td>\n",
              "      <td>Male</td>\n",
              "    </tr>\n",
              "    <tr>\n",
              "      <th>1</th>\n",
              "      <td>160.5</td>\n",
              "      <td>130</td>\n",
              "      <td>Short</td>\n",
              "      <td>No</td>\n",
              "      <td>No</td>\n",
              "      <td>Female</td>\n",
              "    </tr>\n",
              "    <tr>\n",
              "      <th>2</th>\n",
              "      <td>177.8</td>\n",
              "      <td>160</td>\n",
              "      <td>Bald</td>\n",
              "      <td>No</td>\n",
              "      <td>No</td>\n",
              "      <td>Male</td>\n",
              "    </tr>\n",
              "    <tr>\n",
              "      <th>3</th>\n",
              "      <td>161.1</td>\n",
              "      <td>100</td>\n",
              "      <td>Medium</td>\n",
              "      <td>No</td>\n",
              "      <td>No</td>\n",
              "      <td>Female</td>\n",
              "    </tr>\n",
              "  </tbody>\n",
              "</table>\n",
              "</div>"
            ],
            "text/plain": [
              "   height  weight    hair beard scarf  gender\n",
              "0   179.1     185    Long   Yes    No    Male\n",
              "1   160.5     130   Short    No    No  Female\n",
              "2   177.8     160    Bald    No    No    Male\n",
              "3   161.1     100  Medium    No    No  Female"
            ]
          },
          "metadata": {
            "tags": []
          },
          "execution_count": 686
        }
      ]
    },
    {
      "cell_type": "markdown",
      "metadata": {
        "id": "5vv-tAMyl7sZ"
      },
      "source": [
        "## By Creating Object of Test Data for Label Ecoding for Gender Attribute and Encode using Fit_Transform Method."
      ]
    },
    {
      "cell_type": "code",
      "metadata": {
        "colab": {
          "base_uri": "https://localhost:8080/"
        },
        "id": "4y1HtUw2l72i",
        "outputId": "6997ab8c-6eba-46d7-8804-fbdbdf5151c2"
      },
      "source": [
        "Label_Encoder_Test_Gender =preprocessing.LabelEncoder()\n",
        "PreProcess_Test_Data['gender']=Label_Encoder_Test_Gender.fit_transform(PreProcess_Test_Data['gender'])\n",
        "PreProcess_Test_Data['gender']"
      ],
      "execution_count": null,
      "outputs": [
        {
          "output_type": "execute_result",
          "data": {
            "text/plain": [
              "0    1\n",
              "1    0\n",
              "2    1\n",
              "3    0\n",
              "Name: gender, dtype: int64"
            ]
          },
          "metadata": {
            "tags": []
          },
          "execution_count": 687
        }
      ]
    },
    {
      "cell_type": "markdown",
      "metadata": {
        "id": "-lWPXgE4nmir"
      },
      "source": [
        "## By Creating Object of Test Data for Label Ecoding for Hair Attribute and Encode using Fit_Transform Method."
      ]
    },
    {
      "cell_type": "code",
      "metadata": {
        "colab": {
          "base_uri": "https://localhost:8080/"
        },
        "id": "m2GerpVmnqtT",
        "outputId": "40ee33d8-90e4-490c-8111-4987d3002cf3"
      },
      "source": [
        "Label_Encoder_Test_Hair =preprocessing.LabelEncoder()\n",
        "PreProcess_Test_Data['hair']=Label_Encoder_Test_Hair.fit_transform(PreProcess_Test_Data['hair'])\n",
        "PreProcess_Test_Data['hair']"
      ],
      "execution_count": null,
      "outputs": [
        {
          "output_type": "execute_result",
          "data": {
            "text/plain": [
              "0    1\n",
              "1    3\n",
              "2    0\n",
              "3    2\n",
              "Name: hair, dtype: int64"
            ]
          },
          "metadata": {
            "tags": []
          },
          "execution_count": 688
        }
      ]
    },
    {
      "cell_type": "markdown",
      "metadata": {
        "id": "YrRw6udgnvRX"
      },
      "source": [
        "## By Creating Object of Test Data for Label Ecoding for Beard Attribute and Encode using Fit_Transform Method."
      ]
    },
    {
      "cell_type": "code",
      "metadata": {
        "colab": {
          "base_uri": "https://localhost:8080/"
        },
        "id": "syCHKgz5oAle",
        "outputId": "82966361-577e-4014-89f5-d9ab2a0a0c7f"
      },
      "source": [
        "Label_Encoder_Test_Beard =preprocessing.LabelEncoder()\n",
        "PreProcess_Test_Data['beard']=Label_Encoder_Test_Beard.fit_transform(PreProcess_Test_Data['beard'])\n",
        "PreProcess_Test_Data['beard']"
      ],
      "execution_count": null,
      "outputs": [
        {
          "output_type": "execute_result",
          "data": {
            "text/plain": [
              "0    1\n",
              "1    0\n",
              "2    0\n",
              "3    0\n",
              "Name: beard, dtype: int64"
            ]
          },
          "metadata": {
            "tags": []
          },
          "execution_count": 689
        }
      ]
    },
    {
      "cell_type": "markdown",
      "metadata": {
        "id": "7oM5iv8Bn7jK"
      },
      "source": [
        "## By Creating Object of Test Data for Label Ecoding for Scarf Attribute and Encode using Fit_Transform Method."
      ]
    },
    {
      "cell_type": "code",
      "metadata": {
        "colab": {
          "base_uri": "https://localhost:8080/"
        },
        "id": "qphMChwOoYDh",
        "outputId": "0e12d563-6cd8-4997-cdbb-2b5023e5e1f4"
      },
      "source": [
        "Label_Encoder_Test_Scarf =preprocessing.LabelEncoder()\n",
        "PreProcess_Test_Data['scarf']=Label_Encoder_Test_Scarf.fit_transform(PreProcess_Test_Data['scarf'])\n",
        "PreProcess_Test_Data['scarf']"
      ],
      "execution_count": null,
      "outputs": [
        {
          "output_type": "execute_result",
          "data": {
            "text/plain": [
              "0    0\n",
              "1    0\n",
              "2    0\n",
              "3    0\n",
              "Name: scarf, dtype: int64"
            ]
          },
          "metadata": {
            "tags": []
          },
          "execution_count": 690
        }
      ]
    },
    {
      "cell_type": "markdown",
      "metadata": {
        "id": "kVNPH0Rsop6W"
      },
      "source": [
        "#Train Model"
      ]
    },
    {
      "cell_type": "code",
      "metadata": {
        "colab": {
          "base_uri": "https://localhost:8080/"
        },
        "id": "ciUrXA4Fp1Xt",
        "outputId": "a32b57b5-bde5-46e6-bde9-c218f2fc5289"
      },
      "source": [
        "print('For Training Model Split input and Output Data in Different Veriables and pass that veriables to model:\\n')"
      ],
      "execution_count": null,
      "outputs": [
        {
          "output_type": "stream",
          "text": [
            "For Training Model Split input and Output Data in Different Veriables and pass that veriables to model:\n",
            "\n"
          ],
          "name": "stdout"
        }
      ]
    },
    {
      "cell_type": "code",
      "metadata": {
        "colab": {
          "base_uri": "https://localhost:8080/",
          "height": 227
        },
        "id": "orMUfqTToz6T",
        "outputId": "a12aefde-64ab-48bb-a962-f3051ccaba8d"
      },
      "source": [
        "\n",
        "Train_Data_Input=PreProcess_Train_Data.iloc[:,:5]\n",
        "Train_Data_Input"
      ],
      "execution_count": null,
      "outputs": [
        {
          "output_type": "execute_result",
          "data": {
            "text/html": [
              "<div>\n",
              "<style scoped>\n",
              "    .dataframe tbody tr th:only-of-type {\n",
              "        vertical-align: middle;\n",
              "    }\n",
              "\n",
              "    .dataframe tbody tr th {\n",
              "        vertical-align: top;\n",
              "    }\n",
              "\n",
              "    .dataframe thead th {\n",
              "        text-align: right;\n",
              "    }\n",
              "</style>\n",
              "<table border=\"1\" class=\"dataframe\">\n",
              "  <thead>\n",
              "    <tr style=\"text-align: right;\">\n",
              "      <th></th>\n",
              "      <th>height</th>\n",
              "      <th>weight</th>\n",
              "      <th>hair</th>\n",
              "      <th>beard</th>\n",
              "      <th>scarf</th>\n",
              "    </tr>\n",
              "  </thead>\n",
              "  <tbody>\n",
              "    <tr>\n",
              "      <th>0</th>\n",
              "      <td>180.3000</td>\n",
              "      <td>196</td>\n",
              "      <td>0</td>\n",
              "      <td>1</td>\n",
              "      <td>0</td>\n",
              "    </tr>\n",
              "    <tr>\n",
              "      <th>1</th>\n",
              "      <td>170.0000</td>\n",
              "      <td>120</td>\n",
              "      <td>1</td>\n",
              "      <td>0</td>\n",
              "      <td>0</td>\n",
              "    </tr>\n",
              "    <tr>\n",
              "      <th>2</th>\n",
              "      <td>178.5000</td>\n",
              "      <td>200</td>\n",
              "      <td>3</td>\n",
              "      <td>0</td>\n",
              "      <td>0</td>\n",
              "    </tr>\n",
              "    <tr>\n",
              "      <th>3</th>\n",
              "      <td>163.4000</td>\n",
              "      <td>110</td>\n",
              "      <td>2</td>\n",
              "      <td>0</td>\n",
              "      <td>1</td>\n",
              "    </tr>\n",
              "    <tr>\n",
              "      <th>4</th>\n",
              "      <td>175.2222</td>\n",
              "      <td>220</td>\n",
              "      <td>3</td>\n",
              "      <td>1</td>\n",
              "      <td>0</td>\n",
              "    </tr>\n",
              "    <tr>\n",
              "      <th>5</th>\n",
              "      <td>165.0000</td>\n",
              "      <td>150</td>\n",
              "      <td>2</td>\n",
              "      <td>0</td>\n",
              "      <td>1</td>\n",
              "    </tr>\n",
              "  </tbody>\n",
              "</table>\n",
              "</div>"
            ],
            "text/plain": [
              "     height  weight  hair  beard  scarf\n",
              "0  180.3000     196     0      1      0\n",
              "1  170.0000     120     1      0      0\n",
              "2  178.5000     200     3      0      0\n",
              "3  163.4000     110     2      0      1\n",
              "4  175.2222     220     3      1      0\n",
              "5  165.0000     150     2      0      1"
            ]
          },
          "metadata": {
            "tags": []
          },
          "execution_count": 692
        }
      ]
    },
    {
      "cell_type": "code",
      "metadata": {
        "colab": {
          "base_uri": "https://localhost:8080/"
        },
        "id": "-Jqu3YUEp5lq",
        "outputId": "60e3dd24-f38d-48c0-d5fb-8d6bd92123f2"
      },
      "source": [
        "\n",
        "Train_Data_Output=PreProcess_Train_Data.iloc[:,5]\n",
        "Train_Data_Output"
      ],
      "execution_count": null,
      "outputs": [
        {
          "output_type": "execute_result",
          "data": {
            "text/plain": [
              "0    1\n",
              "1    0\n",
              "2    1\n",
              "3    0\n",
              "4    1\n",
              "5    0\n",
              "Name: gender, dtype: int64"
            ]
          },
          "metadata": {
            "tags": []
          },
          "execution_count": 693
        }
      ]
    },
    {
      "cell_type": "code",
      "metadata": {
        "colab": {
          "base_uri": "https://localhost:8080/",
          "height": 167
        },
        "id": "GWN6_31brHsr",
        "outputId": "8b533917-f486-4134-ddaa-0e6fb8f1f038"
      },
      "source": [
        "Test_Data_Input=PreProcess_Test_Data.iloc[:,:5]\n",
        "Test_Data_Input"
      ],
      "execution_count": null,
      "outputs": [
        {
          "output_type": "execute_result",
          "data": {
            "text/html": [
              "<div>\n",
              "<style scoped>\n",
              "    .dataframe tbody tr th:only-of-type {\n",
              "        vertical-align: middle;\n",
              "    }\n",
              "\n",
              "    .dataframe tbody tr th {\n",
              "        vertical-align: top;\n",
              "    }\n",
              "\n",
              "    .dataframe thead th {\n",
              "        text-align: right;\n",
              "    }\n",
              "</style>\n",
              "<table border=\"1\" class=\"dataframe\">\n",
              "  <thead>\n",
              "    <tr style=\"text-align: right;\">\n",
              "      <th></th>\n",
              "      <th>height</th>\n",
              "      <th>weight</th>\n",
              "      <th>hair</th>\n",
              "      <th>beard</th>\n",
              "      <th>scarf</th>\n",
              "    </tr>\n",
              "  </thead>\n",
              "  <tbody>\n",
              "    <tr>\n",
              "      <th>0</th>\n",
              "      <td>179.1</td>\n",
              "      <td>185</td>\n",
              "      <td>1</td>\n",
              "      <td>1</td>\n",
              "      <td>0</td>\n",
              "    </tr>\n",
              "    <tr>\n",
              "      <th>1</th>\n",
              "      <td>160.5</td>\n",
              "      <td>130</td>\n",
              "      <td>3</td>\n",
              "      <td>0</td>\n",
              "      <td>0</td>\n",
              "    </tr>\n",
              "    <tr>\n",
              "      <th>2</th>\n",
              "      <td>177.8</td>\n",
              "      <td>160</td>\n",
              "      <td>0</td>\n",
              "      <td>0</td>\n",
              "      <td>0</td>\n",
              "    </tr>\n",
              "    <tr>\n",
              "      <th>3</th>\n",
              "      <td>161.1</td>\n",
              "      <td>100</td>\n",
              "      <td>2</td>\n",
              "      <td>0</td>\n",
              "      <td>0</td>\n",
              "    </tr>\n",
              "  </tbody>\n",
              "</table>\n",
              "</div>"
            ],
            "text/plain": [
              "   height  weight  hair  beard  scarf\n",
              "0   179.1     185     1      1      0\n",
              "1   160.5     130     3      0      0\n",
              "2   177.8     160     0      0      0\n",
              "3   161.1     100     2      0      0"
            ]
          },
          "metadata": {
            "tags": []
          },
          "execution_count": 694
        }
      ]
    },
    {
      "cell_type": "code",
      "metadata": {
        "colab": {
          "base_uri": "https://localhost:8080/"
        },
        "id": "MY4s7QrrrU0t",
        "outputId": "cace41c9-3503-4430-9c88-23d932407957"
      },
      "source": [
        "Test_Data_Output=PreProcess_Test_Data.iloc[:,5]\n",
        "Test_Data_Output"
      ],
      "execution_count": null,
      "outputs": [
        {
          "output_type": "execute_result",
          "data": {
            "text/plain": [
              "0    1\n",
              "1    0\n",
              "2    1\n",
              "3    0\n",
              "Name: gender, dtype: int64"
            ]
          },
          "metadata": {
            "tags": []
          },
          "execution_count": 695
        }
      ]
    },
    {
      "cell_type": "markdown",
      "metadata": {
        "id": "FyLCHP55qZUE"
      },
      "source": [
        "#1-Train Model on LogisticRegression\n",
        "\n",
        "\n",
        "\n",
        "\n",
        "\n",
        "\n",
        "\n",
        "\n",
        "\n"
      ]
    },
    {
      "cell_type": "code",
      "metadata": {
        "colab": {
          "base_uri": "https://localhost:8080/"
        },
        "id": "miyDF01fqly_",
        "outputId": "e4fcae21-7207-477d-d1c3-ed8c66871f76"
      },
      "source": [
        "from sklearn.linear_model import LogisticRegression\n",
        "linear=LogisticRegression()\n",
        "linear.fit(Train_Data_Input, Train_Data_Output)\n",
        "\n",
        "LRPrediction = linear.predict(Test_Data_Input)\n",
        "print(\"Pridicted Output:\", LRPrediction)"
      ],
      "execution_count": null,
      "outputs": [
        {
          "output_type": "stream",
          "text": [
            "Pridicted Output: [1 0 0 0]\n"
          ],
          "name": "stdout"
        }
      ]
    },
    {
      "cell_type": "markdown",
      "metadata": {
        "id": "V3qpbz9Vr6eS"
      },
      "source": [
        "#2-Train Model on BernoulliNB\n",
        "\n",
        "\n",
        "\n",
        "\n"
      ]
    },
    {
      "cell_type": "code",
      "metadata": {
        "colab": {
          "base_uri": "https://localhost:8080/"
        },
        "id": "DQwbpGkJr_Lv",
        "outputId": "0cc0de9f-c37b-46e2-a681-1c3e63bbed7e"
      },
      "source": [
        "from sklearn.naive_bayes import BernoulliNB\n",
        "bnb=BernoulliNB()\n",
        "\n",
        "bnb.fit(Train_Data_Input, Train_Data_Output)\n",
        "BNBPrediction=bnb.predict(Test_Data_Input)\n",
        "print(\"Pridicted Output:\", BNBPrediction)"
      ],
      "execution_count": null,
      "outputs": [
        {
          "output_type": "stream",
          "text": [
            "Pridicted Output: [1 0 1 0]\n"
          ],
          "name": "stdout"
        }
      ]
    },
    {
      "cell_type": "markdown",
      "metadata": {
        "id": "usX4rGqKtg8D"
      },
      "source": [
        "#3-Train Model on RandomForestClassifier\n",
        "\n",
        "\n",
        "\n",
        "\n"
      ]
    },
    {
      "cell_type": "code",
      "metadata": {
        "colab": {
          "base_uri": "https://localhost:8080/"
        },
        "id": "5gV82F7itzv-",
        "outputId": "e9bf8e85-2b58-482c-e0aa-668f2307265b"
      },
      "source": [
        "rfc=RandomForestClassifier()\n",
        "rfc.fit(Train_Data_Input, Train_Data_Output)\n",
        "RFCprediction = rfc.predict(Test_Data_Input)\n",
        "print(\"Pridicted Output:\", RFCprediction)"
      ],
      "execution_count": null,
      "outputs": [
        {
          "output_type": "stream",
          "text": [
            "Pridicted Output: [1 0 1 0]\n"
          ],
          "name": "stdout"
        }
      ]
    },
    {
      "cell_type": "markdown",
      "metadata": {
        "id": "7_fv7L9P7I2a"
      },
      "source": [
        "#4-Train Model on LinearSVC\n",
        "\n",
        "\n",
        "\n",
        "\n"
      ]
    },
    {
      "cell_type": "code",
      "metadata": {
        "colab": {
          "base_uri": "https://localhost:8080/"
        },
        "id": "l7ppwaWauO7A",
        "outputId": "a3e5d457-8822-41c3-8c13-d298b11cdcb5"
      },
      "source": [
        "from sklearn.svm import  LinearSVC\n",
        "lsvc=LinearSVC()\n",
        "lsvc.fit(Train_Data_Input, Train_Data_Output)\n",
        "lsvcprediction = lsvc.predict(Test_Data_Input)\n",
        "print(\"Pridicted Output:\", lsvcprediction)"
      ],
      "execution_count": null,
      "outputs": [
        {
          "output_type": "stream",
          "text": [
            "Pridicted Output: [1 0 0 0]\n"
          ],
          "name": "stdout"
        },
        {
          "output_type": "stream",
          "text": [
            "/usr/local/lib/python3.7/dist-packages/sklearn/svm/_base.py:947: ConvergenceWarning: Liblinear failed to converge, increase the number of iterations.\n",
            "  \"the number of iterations.\", ConvergenceWarning)\n"
          ],
          "name": "stderr"
        }
      ]
    },
    {
      "cell_type": "markdown",
      "metadata": {
        "id": "OrUaUz3ouySa"
      },
      "source": [
        "#Create Function for OutPut Prediction"
      ]
    },
    {
      "cell_type": "markdown",
      "metadata": {
        "id": "alVteA4RTB07"
      },
      "source": [
        "#1-LogisticRegression Model Accuracy"
      ]
    },
    {
      "cell_type": "code",
      "metadata": {
        "colab": {
          "base_uri": "https://localhost:8080/"
        },
        "id": "G1KwonmirEef",
        "outputId": "4a911e78-952f-4e2e-bd42-972169a57074"
      },
      "source": [
        "import matplotlib.pyplot as plt\n",
        "  \n",
        "Test_Data_Input[\"gender\"]=LRPrediction\n",
        "\n",
        "  \n",
        "Test_Data_Input[\"gender\"]=Label_Encoder_Test_Gender.inverse_transform(Test_Data_Input[\"gender\"])\n",
        "Test_Data_Input[\"hair\"]=Label_Encoder_Test_Hair.inverse_transform(Test_Data_Input[\"hair\"])\n",
        "Test_Data_Input[\"beard\"]=Label_Encoder_Test_Beard.inverse_transform(Test_Data_Input[\"beard\"])\n",
        "Test_Data_Input[\"scarf\"]=Label_Encoder_Test_Scarf.inverse_transform(Test_Data_Input[\"scarf\"])\n",
        "print(\"Logistic Regression Model's Output:\\n\", Test_Data_Input) \n",
        "print(\"Accuracy Score: \", (100 * accuracy_score(Test_Data_Output, LRPrediction)))\n",
        "  "
      ],
      "execution_count": null,
      "outputs": [
        {
          "output_type": "stream",
          "text": [
            "Logistic Regression Model's Output:\n",
            "    height  weight    hair beard scarf  gender\n",
            "0   179.1     185    Long   Yes    No    Male\n",
            "1   160.5     130   Short    No    No  Female\n",
            "2   177.8     160    Bald    No    No  Female\n",
            "3   161.1     100  Medium    No    No  Female\n",
            "Accuracy Score:  75.0\n"
          ],
          "name": "stdout"
        }
      ]
    },
    {
      "cell_type": "markdown",
      "metadata": {
        "id": "JJzEwHfZTcb0"
      },
      "source": [
        "#2-BernoulliNB Model Accuracy"
      ]
    },
    {
      "cell_type": "code",
      "metadata": {
        "colab": {
          "base_uri": "https://localhost:8080/"
        },
        "id": "8Lskn3MuOeTJ",
        "outputId": "9ac79dd7-aad2-4b1e-c957-9c2711a66cfe"
      },
      "source": [
        "import matplotlib.pyplot as plt\n",
        "  \n",
        "Test_Data_Input[\"gender\"]=BNBPrediction\n",
        "\n",
        "  \n",
        "Test_Data_Input[\"gender\"]=Label_Encoder_Test_Gender.inverse_transform(Test_Data_Input[\"gender\"])\n",
        "print(\"BernoulliNB Model's Output:\\n\", Test_Data_Input) \n",
        "print(\"Accuracy Score: \", (100 * accuracy_score(Test_Data_Output, BNBPrediction)))"
      ],
      "execution_count": null,
      "outputs": [
        {
          "output_type": "stream",
          "text": [
            "BernoulliNB Model's Output:\n",
            "    height  weight    hair beard scarf  gender\n",
            "0   179.1     185    Long   Yes    No    Male\n",
            "1   160.5     130   Short    No    No  Female\n",
            "2   177.8     160    Bald    No    No    Male\n",
            "3   161.1     100  Medium    No    No  Female\n",
            "Accuracy Score:  100.0\n"
          ],
          "name": "stdout"
        }
      ]
    },
    {
      "cell_type": "markdown",
      "metadata": {
        "id": "2qOKXdWbTtBW"
      },
      "source": [
        "# 3- RandomForestClassifier Model Accuracy"
      ]
    },
    {
      "cell_type": "code",
      "metadata": {
        "colab": {
          "base_uri": "https://localhost:8080/"
        },
        "id": "uZbc4rwSSw4n",
        "outputId": "0366a17e-66ec-405d-8651-653c8d9a9245"
      },
      "source": [
        "import matplotlib.pyplot as plt\n",
        "  \n",
        "Test_Data_Input[\"gender\"]=RFCprediction\n",
        "\n",
        "  \n",
        "Test_Data_Input[\"gender\"]=Label_Encoder_Test_Gender.inverse_transform(Test_Data_Input[\"gender\"])\n",
        "print(\"RandomForestClassifier Model's Output:\\n\", Test_Data_Input) \n",
        "print(\"Accuracy Score: \", (100 * accuracy_score(Test_Data_Output, RFCprediction)))"
      ],
      "execution_count": null,
      "outputs": [
        {
          "output_type": "stream",
          "text": [
            "RandomForestClassifier Model's Output:\n",
            "    height  weight    hair beard scarf  gender\n",
            "0   179.1     185    Long   Yes    No    Male\n",
            "1   160.5     130   Short    No    No  Female\n",
            "2   177.8     160    Bald    No    No    Male\n",
            "3   161.1     100  Medium    No    No  Female\n",
            "Accuracy Score:  100.0\n"
          ],
          "name": "stdout"
        }
      ]
    },
    {
      "cell_type": "markdown",
      "metadata": {
        "id": "iemdxUzOT3x2"
      },
      "source": [
        "# LinearSVC Model Accuracy"
      ]
    },
    {
      "cell_type": "code",
      "metadata": {
        "colab": {
          "base_uri": "https://localhost:8080/"
        },
        "id": "y_-ovz95T38h",
        "outputId": "82891166-c68f-412b-ce68-40618d29f94c"
      },
      "source": [
        "import matplotlib.pyplot as plt\n",
        "  \n",
        "Test_Data_Input[\"gender\"]=lsvcprediction\n",
        "\n",
        "  \n",
        "Test_Data_Input[\"gender\"]=Label_Encoder_Test_Gender.inverse_transform(Test_Data_Input[\"gender\"])\n",
        "print(\" LinearSVC Model's Output:\\n\", Test_Data_Input) \n",
        "print(\"Accuracy Score: \", (100 * accuracy_score(Test_Data_Output, lsvcprediction)))"
      ],
      "execution_count": null,
      "outputs": [
        {
          "output_type": "stream",
          "text": [
            " LinearSVC Model's Output:\n",
            "    height  weight    hair beard scarf  gender\n",
            "0   179.1     185    Long   Yes    No    Male\n",
            "1   160.5     130   Short    No    No  Female\n",
            "2   177.8     160    Bald    No    No  Female\n",
            "3   161.1     100  Medium    No    No  Female\n",
            "Accuracy Score:  75.0\n"
          ],
          "name": "stdout"
        }
      ]
    },
    {
      "cell_type": "markdown",
      "metadata": {
        "id": "no_15fULZs5C"
      },
      "source": [
        "# **Best Model Selection**"
      ]
    },
    {
      "cell_type": "code",
      "metadata": {
        "colab": {
          "base_uri": "https://localhost:8080/"
        },
        "id": "hRMxGSa4rBjU",
        "outputId": "64f99426-12a4-4f2b-ae04-1fb94ebae7d9"
      },
      "source": [
        "from sklearn.metrics import mean_squared_error\n",
        "Performance_Of_All_Models=pd.DataFrame(columns=[\"Model\", \"Accuracy\", \"Error\"])\n",
        "print(Performance_Of_All_Models)\n",
        "count=0\n",
        "for x in prediction:\n",
        " new_row={ \"Model\":x, \n",
        "          \"Accuracy\":\"{:.0%}\".format(accuracy_score(Test_Data_Output, prediction[x])),\n",
        "           \"Error\":\"{:.0%}\".format(mean_squared_error(Test_Data_Output, prediction[x]))\n",
        "           }\n",
        " Performance_Of_All_Models= Performance_Of_All_Models.append(new_row, ignore_index=True)"
      ],
      "execution_count": null,
      "outputs": [
        {
          "output_type": "stream",
          "text": [
            "Empty DataFrame\n",
            "Columns: [Model, Accuracy, Error]\n",
            "Index: []\n"
          ],
          "name": "stdout"
        }
      ]
    },
    {
      "cell_type": "markdown",
      "metadata": {
        "id": "ZQ2qxCs1Wkzt"
      },
      "source": [
        "##Show All Models Predictions & Accuracy"
      ]
    },
    {
      "cell_type": "code",
      "metadata": {
        "colab": {
          "base_uri": "https://localhost:8080/"
        },
        "id": "eokPlZ3zcImD",
        "outputId": "bbbff0f5-052c-4cbf-9934-1a0139ae7866"
      },
      "source": [
        "Model_Result=PrettyTable()\n",
        "Model_Result.field=[\"SrNo\", \"Model\", \"Accurcy\", \"Error\"]\n",
        "Model_Result.add_row([1, 'LogisticsRegression', \"75%\", \"25%\"]) \n",
        "Model_Result.add_row([2, 'BernoulliNB', \"100%\", \"0%\"])\n",
        "Model_Result.add_row([1, 'RedomForestClassifier', \"100%\", \"0%\"])\n",
        "Model_Result.add_row([1, 'LinearSVC', \"75%\", \"25%\"])\n",
        "print(Model_Result.get_string(title=\"All Model Predictions\"))"
      ],
      "execution_count": null,
      "outputs": [
        {
          "output_type": "stream",
          "text": [
            "+-----------------------------------------------------+\n",
            "|                All Model Predictions                |\n",
            "+---------+-----------------------+---------+---------+\n",
            "| Field 1 |        Field 2        | Field 3 | Field 4 |\n",
            "+---------+-----------------------+---------+---------+\n",
            "|    1    |  LogisticsRegression  |   75%   |   25%   |\n",
            "|    2    |      BernoulliNB      |   100%  |    0%   |\n",
            "|    1    | RedomForestClassifier |   100%  |    0%   |\n",
            "|    1    |       LinearSVC       |   75%   |   25%   |\n",
            "+---------+-----------------------+---------+---------+\n"
          ],
          "name": "stdout"
        }
      ]
    },
    {
      "cell_type": "code",
      "metadata": {
        "colab": {
          "base_uri": "https://localhost:8080/"
        },
        "id": "SXbNacXlXBlQ",
        "outputId": "ddfe814d-1329-47f4-f763-2471cf84dcd6"
      },
      "source": [
        "Best_Model_Result=PrettyTable()\n",
        "Best_Model_Result.field=[\"SrNo\", \"Model\", \"Accurcy\", \"Error\"]\n",
        "Best_Model_Result.add_row([2, 'BernoulliNB', \"100%\", \"0%\"])\n",
        "Best_Model_Result.add_row([1, 'RedomForestClassifier', \"100%\", \"0%\"])\n",
        "print(Best_Model_Result.get_string(title=\"Best Model Predictions\"))"
      ],
      "execution_count": null,
      "outputs": [
        {
          "output_type": "stream",
          "text": [
            "+-----------------------------------------------------+\n",
            "|                Best Model Predictions               |\n",
            "+---------+-----------------------+---------+---------+\n",
            "| Field 1 |        Field 2        | Field 3 | Field 4 |\n",
            "+---------+-----------------------+---------+---------+\n",
            "|    2    |      BernoulliNB      |   100%  |    0%   |\n",
            "|    1    | RedomForestClassifier |   100%  |    0%   |\n",
            "+---------+-----------------------+---------+---------+\n"
          ],
          "name": "stdout"
        }
      ]
    },
    {
      "cell_type": "markdown",
      "metadata": {
        "id": "6TBgYNEJZwzq"
      },
      "source": [
        "#Application Phase"
      ]
    },
    {
      "cell_type": "markdown",
      "metadata": {
        "id": "ayUxuPRYawb4"
      },
      "source": [
        "## Merge Train and Test Data by Append Function"
      ]
    },
    {
      "cell_type": "code",
      "metadata": {
        "colab": {
          "base_uri": "https://localhost:8080/"
        },
        "id": "pyjO87VPXsEg",
        "outputId": "259edcc4-fbbe-4594-8bed-d56c4dc80708"
      },
      "source": [
        "Merged_Data=Read_Train_Data.append(Read_Test_Data, ignore_index=True)\n",
        "print(Merge_Data)"
      ],
      "execution_count": null,
      "outputs": [
        {
          "output_type": "stream",
          "text": [
            "     height  weight    hair beard scarf  gender\n",
            "0  180.3000     196    Bald   Yes    No    Male\n",
            "1  170.0000     120    Long    No    No  Female\n",
            "2  178.5000     200   Short    No    No    Male\n",
            "3  163.4000     110  Medium    No   Yes  Female\n",
            "4  175.2222     220   Short   Yes    No    Male\n",
            "5  165.0000     150  Medium    No   Yes  Female\n",
            "6  179.1000     185    Long   Yes    No    Male\n",
            "7  160.5000     130   Short    No    No  Female\n",
            "8  177.8000     160    Bald    No    No    Male\n",
            "9  161.1000     100  Medium    No    No  Female\n"
          ],
          "name": "stdout"
        }
      ]
    },
    {
      "cell_type": "code",
      "metadata": {
        "colab": {
          "base_uri": "https://localhost:8080/"
        },
        "id": "R8vPw9S9abZ2",
        "outputId": "813cd522-68a7-4b97-f33b-507aed1e8f2c"
      },
      "source": [
        "Merged_Data['gender']=Label_Encoder_Gender.fit_transform(Merge_Data['gender'])\n",
        "Merged_Data['hair']=Label_Encoder_Hair.fit_transform(Merge_Data['hair'])\n",
        "Merged_Data['beard']=Label_Encoder_Beard.fit_transform(Merge_Data['beard'])\n",
        "Merged_Data['scarf']=Label_Encoder_Scarf.fit_transform(Merge_Data['scarf'])\n",
        "\n",
        "print(Merged_Data)"
      ],
      "execution_count": null,
      "outputs": [
        {
          "output_type": "stream",
          "text": [
            "     height  weight  hair  beard  scarf  gender\n",
            "0  180.3000     196     0      1      0       1\n",
            "1  170.0000     120     1      0      0       0\n",
            "2  178.5000     200     3      0      0       1\n",
            "3  163.4000     110     2      0      1       0\n",
            "4  175.2222     220     3      1      0       1\n",
            "5  165.0000     150     2      0      1       0\n",
            "6  179.1000     185     1      1      0       1\n",
            "7  160.5000     130     3      0      0       0\n",
            "8  177.8000     160     0      0      0       1\n",
            "9  161.1000     100     2      0      0       0\n"
          ],
          "name": "stdout"
        }
      ]
    },
    {
      "cell_type": "code",
      "metadata": {
        "colab": {
          "base_uri": "https://localhost:8080/"
        },
        "id": "LHUZ6eyhbv3T",
        "outputId": "5e0a7c83-7d6d-4663-9d63-8750e25dfe15"
      },
      "source": [
        "Merged_Data_Input =Merged_Data.iloc[:, :5]\n",
        "print(Merged_Data_Input)"
      ],
      "execution_count": null,
      "outputs": [
        {
          "output_type": "stream",
          "text": [
            "     height  weight  hair  beard  scarf\n",
            "0  180.3000     196     0      1      0\n",
            "1  170.0000     120     1      0      0\n",
            "2  178.5000     200     3      0      0\n",
            "3  163.4000     110     2      0      1\n",
            "4  175.2222     220     3      1      0\n",
            "5  165.0000     150     2      0      1\n",
            "6  179.1000     185     1      1      0\n",
            "7  160.5000     130     3      0      0\n",
            "8  177.8000     160     0      0      0\n",
            "9  161.1000     100     2      0      0\n"
          ],
          "name": "stdout"
        }
      ]
    },
    {
      "cell_type": "code",
      "metadata": {
        "colab": {
          "base_uri": "https://localhost:8080/"
        },
        "id": "mUzG6YZQcxNy",
        "outputId": "5db7ad02-80bb-4c84-b21c-d64e5f9567e1"
      },
      "source": [
        "Merged_Data_Output =Merged_Data.iloc[:,5]\n",
        "print(Merged_Data_Output)"
      ],
      "execution_count": null,
      "outputs": [
        {
          "output_type": "stream",
          "text": [
            "0    1\n",
            "1    0\n",
            "2    1\n",
            "3    0\n",
            "4    1\n",
            "5    0\n",
            "6    1\n",
            "7    0\n",
            "8    1\n",
            "9    0\n",
            "Name: gender, dtype: int64\n"
          ],
          "name": "stdout"
        }
      ]
    },
    {
      "cell_type": "markdown",
      "metadata": {
        "id": "95ZiuwhPcMoC"
      },
      "source": [
        ""
      ]
    },
    {
      "cell_type": "code",
      "metadata": {
        "colab": {
          "base_uri": "https://localhost:8080/"
        },
        "id": "Yt0Lhg3Nc-Vf",
        "outputId": "5cb21ade-c4c3-4f25-c202-c12fb01c8107"
      },
      "source": [
        "rfc.fit(Merged_Data_Input, Merged_Data_Output)"
      ],
      "execution_count": null,
      "outputs": [
        {
          "output_type": "execute_result",
          "data": {
            "text/plain": [
              "RandomForestClassifier(bootstrap=True, ccp_alpha=0.0, class_weight=None,\n",
              "                       criterion='gini', max_depth=None, max_features='auto',\n",
              "                       max_leaf_nodes=None, max_samples=None,\n",
              "                       min_impurity_decrease=0.0, min_impurity_split=None,\n",
              "                       min_samples_leaf=1, min_samples_split=2,\n",
              "                       min_weight_fraction_leaf=0.0, n_estimators=100,\n",
              "                       n_jobs=None, oob_score=False, random_state=None,\n",
              "                       verbose=0, warm_start=False)"
            ]
          },
          "metadata": {
            "tags": []
          },
          "execution_count": 711
        }
      ]
    },
    {
      "cell_type": "code",
      "metadata": {
        "id": "qCYjWCfjkL0a"
      },
      "source": [
        "def to_validate_user_input(variable):\n",
        "  while(1):\n",
        "    try:\n",
        "      variable=int(variable)\n",
        "      return variable\n",
        "    except ValueError:\n",
        "      variable=input(\"Enter Right Input...\")\n",
        "def to_check_user_hair(variable):\n",
        "  while(variable.lower()!= \"bald\" and variable.lower() !=\"long\"  and variable.lower() !=\"short\" and variable.lower() !=\"medium\"):\n",
        "    variable=input(\"Enter Right Input...\")\n",
        "  if(variable.lower()==\"bald\"):\n",
        "    return \"Bald\"\n",
        "  elif(variable.lower()==\"long\"):\n",
        "    return \"Long\"\n",
        "  elif(variable.lower()==\"short\"):\n",
        "    return \"Short\"\n",
        "  elif(variable.lower()==\"medium\"):\n",
        "    return \"Medium\"\n",
        "def to_check_user_interest(variable):\n",
        "  while (variable.lower()!='no' and variable.lower() !='yes'):\n",
        "    variable=input(\"Enter Right Input....\")\n",
        "    if(variable.lower()==\"no\"):\n",
        "      return \"No\"\n",
        "  else:\n",
        "    return \"yes\"    \n",
        "Height=input(\"Please Enter Height - (in centimeter):\")\n",
        "Height= to_validate_user_input(Height)\n",
        "Weight=input(\"Please Enter Weight - (in Kilogram):\")\n",
        "Weight= to_validate_user_input(Weight)   \n",
        "Hair=input(\"Please Enter Hair Length - (in bald/long/short/medium):\")\n",
        "Hair= to_validate_user_input(Hair)\n",
        "Beard=input(\"Have Beard? - (Yes/No):\")\n",
        "Beard= to_validate_user_input(Beard)\n",
        "Scarf=input(\"Carry Scarf? - (Yes/No):\")\n",
        "Scarf= to_validate_user_input(Scarf)"
      ],
      "execution_count": null,
      "outputs": []
    }
  ]
}